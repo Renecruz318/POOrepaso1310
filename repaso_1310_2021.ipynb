{
  "nbformat": 4,
  "nbformat_minor": 0,
  "metadata": {
    "colab": {
      "name": "repaso_1310_2021.ipynb",
      "provenance": [],
      "authorship_tag": "ABX9TyNDgN6Pv8TEG+z2E7XMBfUA",
      "include_colab_link": true
    },
    "kernelspec": {
      "name": "python3",
      "display_name": "Python 3"
    },
    "language_info": {
      "name": "python"
    }
  },
  "cells": [
    {
      "cell_type": "markdown",
      "metadata": {
        "id": "view-in-github",
        "colab_type": "text"
      },
      "source": [
        "<a href=\"https://colab.research.google.com/github/Renecruz318/POOrepaso1310/blob/main/repaso_1310_2021.ipynb\" target=\"_parent\"><img src=\"https://colab.research.google.com/assets/colab-badge.svg\" alt=\"Open In Colab\"/></a>"
      ]
    },
    {
      "cell_type": "code",
      "metadata": {
        "id": "4lYnTAmdvJwr"
      },
      "source": [
        ""
      ],
      "execution_count": null,
      "outputs": []
    },
    {
      "cell_type": "markdown",
      "metadata": {
        "id": "8vKSeKOTeYfi"
      },
      "source": [
        "#Programacion Orientada a Objetos en python\n",
        "#Rene Cruz Montejo 1310 \n",
        "\n",
        "la POO es un paradigma no soportado originalmente por python, python maneja el paradigma Imperativo.\n",
        "\n",
        "Python simila la POO con la declaracion de clases y haciendo referencia a un objeto de forma circular.\n",
        "\"\"self en python es equvalente a this de JAVA\"\"\n",
        "1. forma 1\n",
        "`\n",
        "class <Nombre de la clase>:\n",
        "    <definicion del cuerpo de la clase>\n",
        "`\n",
        "2. forma 2\n",
        "`\n",
        "class <nombre de la clase>(<superclase>):\n",
        "    <definicion del cuerpo de la clase>\n",
        "`\n",
        "El constructor se define siempre con el metodo __init__()\n",
        "(DOBLE GUION BAJO ANTES Y DESPUES DE init)\n",
        "\n",
        "La declaracion de atributos se realiza por medio de el constructor.\n",
        "Para hacer encapsulamiento de metodos o atributos se debe poner __ (DOBLE GUION BAJO) previo a la delaracion del atributo o metodos\n",
        "(private antes del metodo en JAVA)\n"
      ]
    },
    {
      "cell_type": "code",
      "metadata": {
        "id": "TFKbsncqhiMr"
      },
      "source": [
        "class Persona:\n",
        "    def __init__(self, n , e, est):\n",
        "        self.__nombre = n\n",
        "        self.__edad = e\n",
        "        self.__estatura = est\n",
        "    def to_string( self ):\n",
        "        return \"Nombre: \" + self.__nombre + \"Edad: \" + str(self.__edad) + \"Estatura: \" + str(self.__estatura)\n",
        "\n",
        "    def set_estatura(self, nueva_est):\n",
        "        if nueva_est > 0.10 and nueva_est < 2.5 :\n",
        "            self.__estatura = nueva_est\n",
        "        else:\n",
        "            print(\"ERROR: Esa estatura no es posible\")\n",
        "    def get_estatura( self):\n",
        "        return self.__estatura"
      ],
      "execution_count": null,
      "outputs": []
    },
    {
      "cell_type": "code",
      "metadata": {
        "colab": {
          "base_uri": "https://localhost:8080/"
        },
        "id": "bkj-EfhpivFX",
        "outputId": "c021f0d9-d24e-4ce2-b629-628ad7291ba9"
      },
      "source": [
        "per = Persona(\"Jose\",18,1.70)\n",
        "print(per.to_string())\n",
        "\n",
        "#encapsulamiento\n",
        "\n",
        "per.nombre = \"Pedro\" # Esto no se recomienda\n",
        "\n",
        "print(per.to_string())\n",
        "\n",
        "#per.estatura = 3.9\n",
        "per.set_estatura(3.9)\n",
        "print(per.to_string())\n",
        "\n",
        "print(\"Estatura: \" , end=\"\")\n",
        "#print( per.__estatura)\n",
        "print(per.get_estatura())\n"
      ],
      "execution_count": null,
      "outputs": [
        {
          "output_type": "stream",
          "name": "stdout",
          "text": [
            "Nombre: JoseEdad: 18Estatura: 1.7\n",
            "Nombre: JoseEdad: 18Estatura: 1.7\n",
            "ERROR: Esa estatura no es posible\n",
            "Nombre: JoseEdad: 18Estatura: 1.7\n",
            "Estatura: 1.7\n"
          ]
        }
      ]
    },
    {
      "cell_type": "code",
      "metadata": {
        "id": "bnVi1AdQqubi"
      },
      "source": [
        "class Estudiante( Persona ):\n",
        "    def __init__(self,  nc, nombre, edad, est):\n",
        "        self.__num_cta = nc\n",
        "        super().__init__(nombre,edad,est)\n",
        "    def to_string(self):\n",
        "        \n",
        "        return super().to_string() + \"Numero de cta.:\" + self.__num_cta"
      ],
      "execution_count": null,
      "outputs": []
    }
  ]
}